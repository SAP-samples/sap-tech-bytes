{
 "cells": [
  {
   "cell_type": "markdown",
   "metadata": {},
   "source": [
    "## Connect to SAP BTP CloudFoundry and get a user key values"
   ]
  },
  {
   "cell_type": "code",
   "execution_count": 1,
   "metadata": {},
   "outputs": [],
   "source": [
    "from cloudfoundry_client.client import CloudFoundryClient\n",
    "import os"
   ]
  },
  {
   "cell_type": "markdown",
   "metadata": {},
   "source": [
    "### Connect Python CF client using user and password"
   ]
  },
  {
   "cell_type": "raw",
   "metadata": {
    "vscode": {
     "languageId": "raw"
    }
   },
   "source": [
    "my_btp_user='korystuvach@domain.ua'"
   ]
  },
  {
   "cell_type": "raw",
   "metadata": {
    "vscode": {
     "languageId": "raw"
    }
   },
   "source": [
    "import getpass\n",
    "\n",
    "# Prompt the user for password without displaying it\n",
    "my_btp_password = getpass.getpass(prompt='Enter your SAP BTP user password: ')\n",
    "\n",
    "print(f\"The password {len(my_btp_password)*'*'} has been entered.\")"
   ]
  },
  {
   "cell_type": "raw",
   "metadata": {
    "vscode": {
     "languageId": "raw"
    }
   },
   "source": [
    "target_endpoint = 'https://api.cf.eu10-004.hana.ondemand.com'\n",
    "proxy = dict(http=os.environ.get('HTTP_PROXY', ''), https=os.environ.get('HTTPS_PROXY', ''))\n",
    "client = CloudFoundryClient(target_endpoint, proxy=proxy, verify=True)\n",
    "# use the default file, i.e. ~/.cf/config.json\n",
    "client.init_with_user_credentials(login=my_btp_user, password=my_btp_password)"
   ]
  },
  {
   "cell_type": "markdown",
   "metadata": {},
   "source": [
    "### Connect Python CF client using the default file, i.e. `~/.cf/config.json`"
   ]
  },
  {
   "cell_type": "code",
   "execution_count": 2,
   "metadata": {},
   "outputs": [],
   "source": [
    "target_endpoint = 'https://api.cf.eu10-004.hana.ondemand.com'\n",
    "proxy = dict(http=os.environ.get('HTTP_PROXY', ''), https=os.environ.get('HTTPS_PROXY', ''))\n",
    "client = CloudFoundryClient(target_endpoint, proxy=proxy, verify=True)\n",
    "# use the default file, i.e. ~/.cf/config.json\n",
    "client = CloudFoundryClient.build_from_cf_config()"
   ]
  },
  {
   "cell_type": "markdown",
   "metadata": {},
   "source": [
    "### Get my SAP AI Core service key\n",
    "\n",
    "...where the service key name in my SAP BTP subaccount is `vital-aicore-ext-sk1`"
   ]
  },
  {
   "cell_type": "code",
   "execution_count": 3,
   "metadata": {},
   "outputs": [],
   "source": [
    "my_cf_servicekey=client.v2.service_keys.get_first(name='vital-aicore-ext-sk1')"
   ]
  },
  {
   "cell_type": "code",
   "execution_count": null,
   "metadata": {},
   "outputs": [],
   "source": [
    "display(my_cf_servicekey)"
   ]
  },
  {
   "cell_type": "markdown",
   "metadata": {},
   "source": [
    "## Connect to my SAP AI Core instance"
   ]
  },
  {
   "cell_type": "markdown",
   "metadata": {},
   "source": [
    "### Connect to my SAP AI Core instance using the values from the service key"
   ]
  },
  {
   "cell_type": "code",
   "execution_count": 5,
   "metadata": {},
   "outputs": [],
   "source": [
    "# Load the AICore client\n",
    "from ai_core_sdk.ai_core_v2_client import AICoreV2Client\n",
    "\n",
    "# Create Connection\n",
    "ai_core_client = AICoreV2Client(\n",
    "    base_url      = my_cf_servicekey['entity']['credentials']['serviceurls']['AI_API_URL'] + '/v2', # The present SAP AI Core API version is 2\n",
    "    auth_url      = my_cf_servicekey['entity']['credentials']['url'] + '/oauth/token', # Suffix to add\n",
    "    client_id     = my_cf_servicekey['entity']['credentials']['clientid'],\n",
    "    client_secret = my_cf_servicekey['entity']['credentials']['clientsecret'],\n",
    "    resource_group='default'\n",
    ")"
   ]
  },
  {
   "cell_type": "markdown",
   "metadata": {},
   "source": [
    "### Connect to my SAP AI Core instance using the OS environment variables from the values from the service key"
   ]
  },
  {
   "cell_type": "raw",
   "metadata": {
    "vscode": {
     "languageId": "raw"
    }
   },
   "source": [
    "import os\n",
    "\n",
    "os.environ.update({\n",
    "    \"AICORE_AUTH_URL\":      f\"{my_cf_servicekey['entity']['credentials']['url'] + '/oauth/token' }\",\n",
    "    \"AICORE_CLIENT_ID\":     f\"{my_cf_servicekey['entity']['credentials']['clientid']}\",\n",
    "    \"AICORE_CLIENT_SECRET\": f\"{my_cf_servicekey['entity']['credentials']['clientsecret']}\",\n",
    "    \"AICORE_BASE_URL\":      f\"{my_cf_servicekey['entity']['credentials']['serviceurls']['AI_API_URL'] + '/v2'}\",\n",
    "    \"AICORE_RESOURCE_GROUP\":\"default\"\n",
    "})"
   ]
  },
  {
   "cell_type": "raw",
   "metadata": {
    "vscode": {
     "languageId": "raw"
    }
   },
   "source": [
    "# Load the AICore client\n",
    "from ai_core_sdk.ai_core_v2_client import AICoreV2Client\n",
    "\n",
    "# Create Connection\n",
    "ai_core_client = AICoreV2Client.from_env()"
   ]
  },
  {
   "cell_type": "markdown",
   "metadata": {},
   "source": [
    "### Check GenAI model deployments in my SAP AI Core resource group"
   ]
  },
  {
   "cell_type": "code",
   "execution_count": 6,
   "metadata": {},
   "outputs": [],
   "source": [
    "response = ai_core_client.deployment.query()"
   ]
  },
  {
   "cell_type": "code",
   "execution_count": 7,
   "metadata": {},
   "outputs": [
    {
     "data": {
      "text/plain": [
       "{'configuration_id': '14305345-7a79-45a0-a53a-1cd2f73613bb',\n",
       " 'configuration_name': 'text-embedding-ada-002-config',\n",
       " 'status': <Status.RUNNING: 'RUNNING'>,\n",
       " 'details': {'resources': {'backend_details': {'model': {'name': 'text-embedding-ada-002',\n",
       "     'version': 'latest'}}},\n",
       "  'scaling': {'backend_details': {}}}}"
      ]
     },
     "metadata": {},
     "output_type": "display_data"
    },
    {
     "data": {
      "text/plain": [
       "{'configuration_id': 'df893fbf-5bae-4481-8a63-a572c83db2e6',\n",
       " 'configuration_name': 'gpt-4-32k-config',\n",
       " 'status': <Status.RUNNING: 'RUNNING'>,\n",
       " 'details': {'resources': {'backend_details': {'model': {'name': 'gpt-4-32k',\n",
       "     'version': 'latest'}}},\n",
       "  'scaling': {'backend_details': {}}}}"
      ]
     },
     "metadata": {},
     "output_type": "display_data"
    }
   ],
   "source": [
    "for deployment in response.resources:\n",
    "    display(\n",
    "        {key: deployment.__dict__[key] \n",
    "            for key in ('configuration_id', 'configuration_name', 'status', 'details') \n",
    "            if deployment.__dict__['scenario_id']=='foundation-models'}\n",
    "    )\n"
   ]
  },
  {
   "cell_type": "markdown",
   "metadata": {},
   "source": [
    "## Use SAP Gen AI Hub SDK and instantiate one of the deployed Gen AI Models"
   ]
  },
  {
   "cell_type": "code",
   "execution_count": 8,
   "metadata": {},
   "outputs": [],
   "source": [
    "from gen_ai_hub.proxy.langchain.init_models import init_llm"
   ]
  },
  {
   "cell_type": "raw",
   "metadata": {
    "vscode": {
     "languageId": "raw"
    }
   },
   "source": [
    "# Please note that `init_llm` implicitely uses OS environment variables to create its SAP Core AI client, \n",
    "# and does not reuse the `ai_core_client` you created above\n",
    "\n",
    "llm = init_llm('gpt-4-32k', temperature=0., max_tokens=256)"
   ]
  },
  {
   "cell_type": "code",
   "execution_count": 9,
   "metadata": {},
   "outputs": [],
   "source": [
    "from gen_ai_hub.proxy.gen_ai_hub_proxy.client import GenAIHubProxyClient\n",
    "\n",
    "genai_client=GenAIHubProxyClient(ai_core_client=ai_core_client)"
   ]
  },
  {
   "cell_type": "code",
   "execution_count": 10,
   "metadata": {},
   "outputs": [],
   "source": [
    "# `init_llm` to explicitely reuse the `ai_core_client` you created above\n",
    "\n",
    "llm = init_llm('gpt-4-32k', temperature=0., max_tokens=256, proxy_client=genai_client)"
   ]
  },
  {
   "cell_type": "code",
   "execution_count": 11,
   "metadata": {},
   "outputs": [
    {
     "name": "stdout",
     "output_type": "stream",
     "text": [
      "https://api.ai.prod.eu-central-1.aws.ml.hana.ondemand.com/v2\n",
      "Bearer eyJhbGciOiJSU ...\n"
     ]
    }
   ],
   "source": [
    "print(llm.proxy_client.ai_core_client.rest_client.base_url)\n",
    "print(f\"{llm.proxy_client.ai_core_client.rest_client.get_token()[:20]} ...\")"
   ]
  },
  {
   "cell_type": "code",
   "execution_count": 12,
   "metadata": {},
   "outputs": [],
   "source": [
    "# Execute some prompt on the LLM\n",
    "\n",
    "llm_response=llm.invoke('Where is Wrocław located and what are top 5 places I should visit there?')"
   ]
  },
  {
   "cell_type": "code",
   "execution_count": 13,
   "metadata": {},
   "outputs": [
    {
     "name": "stdout",
     "output_type": "stream",
     "text": [
      "Wrocław is located in western Poland, on the banks of the River Oder. It is the largest city in the region of Lower Silesia.\n",
      "\n",
      "Top 5 places to visit in Wrocław:\n",
      "\n",
      "1. Market Square (Rynek): This is one of the largest market squares in Europe, filled with colorful buildings, restaurants, and shops. The Gothic-style Old Town Hall is a must-see.\n",
      "\n",
      "2. Wrocław Cathedral (Cathedral of St. John the Baptist): This is a stunning example of Gothic architecture and the seat of the Roman Catholic Archdiocese of Wrocław. You can climb up to the viewing platform for a panoramic view of the city.\n",
      "\n",
      "3. Wrocław's Dwarfs: Scattered throughout the city, these small figurines have become a symbol of Wrocław. There are over 350 dwarfs and finding them can be a fun activity for both kids and adults.\n",
      "\n",
      "4. Panorama of Raclawice: This is a gigantic painting depicting the Battle of Raclawice during the Kosciuszko Uprising against Russia. The painting is displayed in a circular fashion creating a 360° view.\n",
      "\n",
      "5. Centennial Hall: This is a historic building designed by Max Berg in\n"
     ]
    },
    {
     "data": {
      "text/plain": [
       "{'token_usage': {'completion_tokens': 256,\n",
       "  'prompt_tokens': 25,\n",
       "  'total_tokens': 281},\n",
       " 'model_name': 'gpt-4-32k',\n",
       " 'system_fingerprint': None,\n",
       " 'finish_reason': 'length',\n",
       " 'logprobs': None}"
      ]
     },
     "metadata": {},
     "output_type": "display_data"
    }
   ],
   "source": [
    "print(llm_response.content)\n",
    "display(llm_response.response_metadata)"
   ]
  },
  {
   "cell_type": "markdown",
   "metadata": {},
   "source": [
    "## That's it for now!"
   ]
  }
 ],
 "metadata": {
  "language_info": {
   "name": "python"
  }
 },
 "nbformat": 4,
 "nbformat_minor": 2
}
